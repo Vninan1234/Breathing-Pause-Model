{
  "nbformat": 4,
  "nbformat_minor": 0,
  "metadata": {
    "colab": {
      "provenance": [],
      "authorship_tag": "ABX9TyPog/gbzQOmNKnOqUmbF4A9",
      "include_colab_link": true
    },
    "kernelspec": {
      "name": "python3",
      "display_name": "Python 3"
    },
    "language_info": {
      "name": "python"
    }
  },
  "cells": [
    {
      "cell_type": "markdown",
      "metadata": {
        "id": "view-in-github",
        "colab_type": "text"
      },
      "source": [
        "<a href=\"https://colab.research.google.com/github/Vninan1234/Breathing-Pause-Model/blob/main/BPB_Model.ipynb\" target=\"_parent\"><img src=\"https://colab.research.google.com/assets/colab-badge.svg\" alt=\"Open In Colab\"/></a>"
      ]
    },
    {
      "cell_type": "code",
      "execution_count": 4,
      "metadata": {
        "id": "yknoIP4GHwD8",
        "colab": {
          "base_uri": "https://localhost:8080/"
        },
        "outputId": "63466362-46d6-4d4f-dcb4-d3f2d486979c"
      },
      "outputs": [
        {
          "output_type": "stream",
          "name": "stdout",
          "text": [
            "25\n"
          ]
        }
      ],
      "source": [
        "a = 10\n",
        "b = 15\n",
        "\n",
        "print (a + b)"
      ]
    }
  ]
}